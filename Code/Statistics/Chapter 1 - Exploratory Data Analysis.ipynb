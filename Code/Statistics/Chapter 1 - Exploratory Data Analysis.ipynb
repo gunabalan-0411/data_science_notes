{
 "cells": [
  {
   "cell_type": "markdown",
   "metadata": {},
   "source": [
    "### Import libraries"
   ]
  },
  {
   "cell_type": "code",
   "execution_count": 15,
   "metadata": {},
   "outputs": [],
   "source": [
    "%matplotlib inline\n",
    "\n",
    "import pandas as pd\n",
    "import numpy as np\n",
    "\n",
    "from scipy.stats import trim_mean\n",
    "import wquantiles"
   ]
  },
  {
   "cell_type": "markdown",
   "metadata": {},
   "source": [
    "#### Load data"
   ]
  },
  {
   "cell_type": "code",
   "execution_count": 2,
   "metadata": {},
   "outputs": [],
   "source": [
    "AIRLINE_STATS_CSV   = '/data/airline_stats.csv'\n",
    "KC_TAX_CSV          = '/data/kc_tax.csv.gz'\n",
    "LC_LOANS_CSV        = '/data/lc_loans.csv'\n",
    "AIRPORT_DELAYS_CSV  = '/data/dfw_airline.csv'\n",
    "SP500_DATA_CSV      = '/data/sp500_data.csv.gz'\n",
    "SP500_SECTORS_CSV   = '/data/sp500_sectors.csv'\n",
    "STATE_CSV           = 'data/state.csv'"
   ]
  },
  {
   "cell_type": "markdown",
   "metadata": {},
   "source": [
    "##### Estimates of Location"
   ]
  },
  {
   "cell_type": "markdown",
   "metadata": {},
   "source": [
    "Example: Location estimates of Population and Murder Rates"
   ]
  },
  {
   "cell_type": "code",
   "execution_count": 4,
   "metadata": {},
   "outputs": [
    {
     "data": {
      "text/html": [
       "<div>\n",
       "<style scoped>\n",
       "    .dataframe tbody tr th:only-of-type {\n",
       "        vertical-align: middle;\n",
       "    }\n",
       "\n",
       "    .dataframe tbody tr th {\n",
       "        vertical-align: top;\n",
       "    }\n",
       "\n",
       "    .dataframe thead th {\n",
       "        text-align: right;\n",
       "    }\n",
       "</style>\n",
       "<table border=\"1\" class=\"dataframe\">\n",
       "  <thead>\n",
       "    <tr style=\"text-align: right;\">\n",
       "      <th></th>\n",
       "      <th>State</th>\n",
       "      <th>Population</th>\n",
       "      <th>Murder.Rate</th>\n",
       "      <th>Abbreviation</th>\n",
       "    </tr>\n",
       "  </thead>\n",
       "  <tbody>\n",
       "    <tr>\n",
       "      <th>0</th>\n",
       "      <td>Alabama</td>\n",
       "      <td>4779736</td>\n",
       "      <td>5.7</td>\n",
       "      <td>AL</td>\n",
       "    </tr>\n",
       "    <tr>\n",
       "      <th>1</th>\n",
       "      <td>Alaska</td>\n",
       "      <td>710231</td>\n",
       "      <td>5.6</td>\n",
       "      <td>AK</td>\n",
       "    </tr>\n",
       "    <tr>\n",
       "      <th>2</th>\n",
       "      <td>Arizona</td>\n",
       "      <td>6392017</td>\n",
       "      <td>4.7</td>\n",
       "      <td>AZ</td>\n",
       "    </tr>\n",
       "    <tr>\n",
       "      <th>3</th>\n",
       "      <td>Arkansas</td>\n",
       "      <td>2915918</td>\n",
       "      <td>5.6</td>\n",
       "      <td>AR</td>\n",
       "    </tr>\n",
       "    <tr>\n",
       "      <th>4</th>\n",
       "      <td>California</td>\n",
       "      <td>37253956</td>\n",
       "      <td>4.4</td>\n",
       "      <td>CA</td>\n",
       "    </tr>\n",
       "  </tbody>\n",
       "</table>\n",
       "</div>"
      ],
      "text/plain": [
       "        State  Population  Murder.Rate Abbreviation\n",
       "0     Alabama     4779736          5.7           AL\n",
       "1      Alaska      710231          5.6           AK\n",
       "2     Arizona     6392017          4.7           AZ\n",
       "3    Arkansas     2915918          5.6           AR\n",
       "4  California    37253956          4.4           CA"
      ]
     },
     "execution_count": 4,
     "metadata": {},
     "output_type": "execute_result"
    }
   ],
   "source": [
    "state = pd.read_csv(STATE_CSV)\n",
    "state.head()"
   ]
  },
  {
   "cell_type": "markdown",
   "metadata": {},
   "source": [
    "`Mean`, `Median` and `Trimmed Mean`"
   ]
  },
  {
   "cell_type": "code",
   "execution_count": 13,
   "metadata": {},
   "outputs": [
    {
     "name": "stdout",
     "output_type": "stream",
     "text": [
      "Mean of Population = 6162876.3\n",
      "Median of Population = 4436369.5\n",
      "Trimmed Mean of Population = 4783697.125\n"
     ]
    }
   ],
   "source": [
    "# Mean Calculation using pandas function\n",
    "mean = state['Population'].mean()\n",
    "print(f'Mean of Population = {mean}')\n",
    "\n",
    "# Median Calculation using pandas function\n",
    "median = state['Population'].median()\n",
    "print(f'Median of Population = {median}')\n",
    "\n",
    "# Trimmed Mean Calculation using scipy.stats\n",
    "trimmed_mean = trim_mean(state['Population'], 0.1)\n",
    "print(f'Trimmed Mean of Population = {trimmed_mean}')"
   ]
  },
  {
   "cell_type": "markdown",
   "metadata": {},
   "source": [
    "<p>Proof that how outlier is reduced from mean to median</p> <br>\n",
    "Mean > Trimmed Mean > Median\n"
   ]
  },
  {
   "cell_type": "markdown",
   "metadata": {},
   "source": [
    "`Weighted mean` and `Weighted Median`"
   ]
  },
  {
   "cell_type": "code",
   "execution_count": 16,
   "metadata": {},
   "outputs": [
    {
     "name": "stdout",
     "output_type": "stream",
     "text": [
      "Weighted Mean of Murder rate where weights are Population = 4.445833981123393\n",
      "Weighted Median of Murder rate where weights are Population = 4.4\n"
     ]
    }
   ],
   "source": [
    "# Weighted mean calculation using Numpy\n",
    "weighted_mean = np.average(\n",
    "    state['Murder.Rate'],\n",
    "    weights = state['Population']\n",
    ")\n",
    "print(f'Weighted Mean of Murder rate where weights are Population = {weighted_mean}')\n",
    "\n",
    "# Weighted Median calculation using wquantiles library\n",
    "weighted_median = wquantiles.median(\n",
    "    state['Murder.Rate'],\n",
    "    weights = state['Population']\n",
    ")\n",
    "print(f'Weighted Median of Murder rate where weights are Population = {weighted_median}')\n"
   ]
  },
  {
   "cell_type": "markdown",
   "metadata": {},
   "source": []
  }
 ],
 "metadata": {
  "kernelspec": {
   "display_name": "proj_env",
   "language": "python",
   "name": "proj_env"
  },
  "language_info": {
   "codemirror_mode": {
    "name": "ipython",
    "version": 3
   },
   "file_extension": ".py",
   "mimetype": "text/x-python",
   "name": "python",
   "nbconvert_exporter": "python",
   "pygments_lexer": "ipython3",
   "version": "3.10.0"
  }
 },
 "nbformat": 4,
 "nbformat_minor": 2
}
